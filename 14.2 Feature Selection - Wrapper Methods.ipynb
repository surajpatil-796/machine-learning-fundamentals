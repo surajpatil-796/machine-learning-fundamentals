{
 "cells": [
  {
   "cell_type": "markdown",
   "metadata": {},
   "source": [
    "### Wrapper Methods for Feature Selection\n",
    "Wrapper methods are based on greedy search algorithms as they evaluate all possible combinations of the features and select the combination that produces the best result for a specific machine learning algorithm. A downside to this approach is that testing all possible combinations of the features can be computationally very expensive, particularly if the feature set is very large."
   ]
  },
  {
   "cell_type": "code",
   "execution_count": 1,
   "metadata": {},
   "outputs": [
    {
     "data": {
      "text/plain": [
       "(10000, 133)"
      ]
     },
     "execution_count": 1,
     "metadata": {},
     "output_type": "execute_result"
    }
   ],
   "source": [
    "# Data Pre-processing\n",
    "import pandas as pd\n",
    "import numpy as np\n",
    "from sklearn.model_selection import train_test_split\n",
    "\n",
    "paribas_data = pd.read_csv(\"paribas_data.csv\", nrows=10000)\n",
    "paribas_data.shape"
   ]
  },
  {
   "cell_type": "code",
   "execution_count": 2,
   "metadata": {},
   "outputs": [
    {
     "data": {
      "text/plain": [
       "(10000, 114)"
      ]
     },
     "execution_count": 2,
     "metadata": {},
     "output_type": "execute_result"
    }
   ],
   "source": [
    "# removing the non-numeric columns from the dataset\n",
    "num_colums = ['int16', 'int32', 'int64', 'float16', 'float32', 'float64']\n",
    "numerical_columns = list(paribas_data.select_dtypes(include=num_colums).columns)\n",
    "paribas_data = paribas_data[numerical_columns]\n",
    "paribas_data.shape"
   ]
  },
  {
   "cell_type": "code",
   "execution_count": 3,
   "metadata": {},
   "outputs": [],
   "source": [
    "train_features, test_features, train_labels, test_labels = train_test_split(\n",
    "    paribas_data.drop(labels=['target', 'ID'], axis=1),\n",
    "    paribas_data['target'],\n",
    "    test_size=0.2,\n",
    "    random_state=41)"
   ]
  },
  {
   "cell_type": "code",
   "execution_count": 4,
   "metadata": {},
   "outputs": [],
   "source": [
    "# Creating a set of all the columns with a correlation of greater than 0.8\n",
    "correlated_features = set()\n",
    "correlation_matrix = paribas_data.corr()\n",
    "for i in range(len(correlation_matrix .columns)):\n",
    "    for j in range(i):\n",
    "        if abs(correlation_matrix.iloc[i, j]) > 0.8:\n",
    "            colname = correlation_matrix.columns[i]\n",
    "            correlated_features.add(colname)"
   ]
  },
  {
   "cell_type": "code",
   "execution_count": 5,
   "metadata": {},
   "outputs": [
    {
     "data": {
      "text/plain": [
       "((8000, 57), (2000, 57))"
      ]
     },
     "execution_count": 5,
     "metadata": {},
     "output_type": "execute_result"
    }
   ],
   "source": [
    "# Removing the columns as per above set\n",
    "train_features.drop(labels=correlated_features, axis=1, inplace=True)\n",
    "test_features.drop(labels=correlated_features, axis=1, inplace=True)\n",
    "\n",
    "train_features.shape, test_features.shape"
   ]
  },
  {
   "cell_type": "code",
   "execution_count": 6,
   "metadata": {},
   "outputs": [],
   "source": [
    "# Step Forward Feature Selection also know as Sequential Feature Selection\n",
    "from sklearn.ensemble import RandomForestClassifier\n",
    "from sklearn.metrics import roc_auc_score\n",
    "\n",
    "from mlxtend.feature_selection import SequentialFeatureSelector\n",
    "\n",
    "# # RandomForestClassifieras the estimator to the SequentialFeatureSelector function. \n",
    "# k_features specifies the number of features to select. You can set any number of features here. \n",
    "# The forward parameter, if set to True, performs step forward feature selection. \n",
    "# The verbose parameter is used for logging the progress of the feature selector, \n",
    "# the scoring parameter defines the performance evaluation criteria  \n",
    "# cv refers to cross-validation folds.\n",
    "feature_selector = SequentialFeatureSelector(RandomForestClassifier(n_estimators=10, n_jobs=-1),\n",
    "           k_features=15, forward=True, verbose=2, scoring='roc_auc', cv=4)"
   ]
  },
  {
   "cell_type": "code",
   "execution_count": 7,
   "metadata": {},
   "outputs": [
    {
     "name": "stderr",
     "output_type": "stream",
     "text": [
      "[Parallel(n_jobs=1)]: Using backend SequentialBackend with 1 concurrent workers.\n",
      "[Parallel(n_jobs=1)]: Done   1 out of   1 | elapsed:    3.3s remaining:    0.0s\n",
      "[Parallel(n_jobs=1)]: Done  57 out of  57 | elapsed:   50.1s finished\n",
      "\n",
      "[2020-03-01 08:02:13] Features: 1/15 -- score: 0.6087387995833502[Parallel(n_jobs=1)]: Using backend SequentialBackend with 1 concurrent workers.\n",
      "[Parallel(n_jobs=1)]: Done   1 out of   1 | elapsed:    0.7s remaining:    0.0s\n",
      "[Parallel(n_jobs=1)]: Done  56 out of  56 | elapsed:   44.1s finished\n",
      "\n",
      "[2020-03-01 08:02:58] Features: 2/15 -- score: 0.6445386571526378[Parallel(n_jobs=1)]: Using backend SequentialBackend with 1 concurrent workers.\n",
      "[Parallel(n_jobs=1)]: Done   1 out of   1 | elapsed:    0.7s remaining:    0.0s\n",
      "[Parallel(n_jobs=1)]: Done  55 out of  55 | elapsed:   44.2s finished\n",
      "\n",
      "[2020-03-01 08:03:42] Features: 3/15 -- score: 0.6651819242759144[Parallel(n_jobs=1)]: Using backend SequentialBackend with 1 concurrent workers.\n",
      "[Parallel(n_jobs=1)]: Done   1 out of   1 | elapsed:    0.8s remaining:    0.0s\n",
      "[Parallel(n_jobs=1)]: Done  54 out of  54 | elapsed:   45.9s finished\n",
      "\n",
      "[2020-03-01 08:04:28] Features: 4/15 -- score: 0.6456332320865972[Parallel(n_jobs=1)]: Using backend SequentialBackend with 1 concurrent workers.\n",
      "[Parallel(n_jobs=1)]: Done   1 out of   1 | elapsed:    0.7s remaining:    0.0s\n",
      "[Parallel(n_jobs=1)]: Done  53 out of  53 | elapsed:   44.1s finished\n",
      "\n",
      "[2020-03-01 08:05:12] Features: 5/15 -- score: 0.6574792423956738[Parallel(n_jobs=1)]: Using backend SequentialBackend with 1 concurrent workers.\n",
      "[Parallel(n_jobs=1)]: Done   1 out of   1 | elapsed:    0.8s remaining:    0.0s\n",
      "[Parallel(n_jobs=1)]: Done  52 out of  52 | elapsed:   43.5s finished\n",
      "\n",
      "[2020-03-01 08:05:56] Features: 6/15 -- score: 0.666306858614609[Parallel(n_jobs=1)]: Using backend SequentialBackend with 1 concurrent workers.\n",
      "[Parallel(n_jobs=1)]: Done   1 out of   1 | elapsed:    0.7s remaining:    0.0s\n",
      "[Parallel(n_jobs=1)]: Done  51 out of  51 | elapsed:   42.3s finished\n",
      "\n",
      "[2020-03-01 08:06:38] Features: 7/15 -- score: 0.6628518456435041[Parallel(n_jobs=1)]: Using backend SequentialBackend with 1 concurrent workers.\n",
      "[Parallel(n_jobs=1)]: Done   1 out of   1 | elapsed:    0.7s remaining:    0.0s\n",
      "[Parallel(n_jobs=1)]: Done  50 out of  50 | elapsed:   41.8s finished\n",
      "\n",
      "[2020-03-01 08:07:20] Features: 8/15 -- score: 0.6587848021622997[Parallel(n_jobs=1)]: Using backend SequentialBackend with 1 concurrent workers.\n",
      "[Parallel(n_jobs=1)]: Done   1 out of   1 | elapsed:    0.8s remaining:    0.0s\n",
      "[Parallel(n_jobs=1)]: Done  49 out of  49 | elapsed:   44.1s finished\n",
      "\n",
      "[2020-03-01 08:08:04] Features: 9/15 -- score: 0.6640731726420672[Parallel(n_jobs=1)]: Using backend SequentialBackend with 1 concurrent workers.\n",
      "[Parallel(n_jobs=1)]: Done   1 out of   1 | elapsed:    0.8s remaining:    0.0s\n",
      "[Parallel(n_jobs=1)]: Done  48 out of  48 | elapsed:   43.4s finished\n",
      "\n",
      "[2020-03-01 08:08:48] Features: 10/15 -- score: 0.6656161838862522[Parallel(n_jobs=1)]: Using backend SequentialBackend with 1 concurrent workers.\n",
      "[Parallel(n_jobs=1)]: Done   1 out of   1 | elapsed:    0.8s remaining:    0.0s\n",
      "[Parallel(n_jobs=1)]: Done  47 out of  47 | elapsed:   42.7s finished\n",
      "\n",
      "[2020-03-01 08:09:31] Features: 11/15 -- score: 0.6609891728599722[Parallel(n_jobs=1)]: Using backend SequentialBackend with 1 concurrent workers.\n",
      "[Parallel(n_jobs=1)]: Done   1 out of   1 | elapsed:    0.8s remaining:    0.0s\n",
      "[Parallel(n_jobs=1)]: Done  46 out of  46 | elapsed:   42.3s finished\n",
      "\n",
      "[2020-03-01 08:10:13] Features: 12/15 -- score: 0.6602047556984956[Parallel(n_jobs=1)]: Using backend SequentialBackend with 1 concurrent workers.\n",
      "[Parallel(n_jobs=1)]: Done   1 out of   1 | elapsed:    0.8s remaining:    0.0s\n",
      "[Parallel(n_jobs=1)]: Done  45 out of  45 | elapsed:   40.3s finished\n",
      "\n",
      "[2020-03-01 08:10:53] Features: 13/15 -- score: 0.6573179634401644[Parallel(n_jobs=1)]: Using backend SequentialBackend with 1 concurrent workers.\n",
      "[Parallel(n_jobs=1)]: Done   1 out of   1 | elapsed:    0.8s remaining:    0.0s\n",
      "[Parallel(n_jobs=1)]: Done  44 out of  44 | elapsed:   39.5s finished\n",
      "\n",
      "[2020-03-01 08:11:33] Features: 14/15 -- score: 0.6611107360819626[Parallel(n_jobs=1)]: Using backend SequentialBackend with 1 concurrent workers.\n",
      "[Parallel(n_jobs=1)]: Done   1 out of   1 | elapsed:    0.8s remaining:    0.0s\n",
      "[Parallel(n_jobs=1)]: Done  43 out of  43 | elapsed:   39.3s finished\n",
      "\n",
      "[2020-03-01 08:12:12] Features: 15/15 -- score: 0.6544569533871107"
     ]
    }
   ],
   "source": [
    "features = feature_selector.fit(np.array(train_features.fillna(0)), train_labels)"
   ]
  },
  {
   "cell_type": "code",
   "execution_count": 8,
   "metadata": {},
   "outputs": [
    {
     "data": {
      "text/plain": [
       "Index(['v1', 'v4', 'v10', 'v14', 'v23', 'v38', 'v39', 'v50', 'v62', 'v72',\n",
       "       'v90', 'v92', 'v97', 'v129', 'v131'],\n",
       "      dtype='object')"
      ]
     },
     "execution_count": 8,
     "metadata": {},
     "output_type": "execute_result"
    }
   ],
   "source": [
    "filtered_features= train_features.columns[list(features.k_feature_idx_)]\n",
    "filtered_features"
   ]
  },
  {
   "cell_type": "code",
   "execution_count": 9,
   "metadata": {},
   "outputs": [
    {
     "name": "stdout",
     "output_type": "stream",
     "text": [
      "Accuracy on training set: 0.7160680975317697\n",
      "Accuracy on test set: 0.6956566717596129\n"
     ]
    }
   ],
   "source": [
    "# performance of the random forest algorithm using these 15 features\n",
    "clf = RandomForestClassifier(n_estimators=100, random_state=41, max_depth=3)\n",
    "clf.fit(train_features[filtered_features].fillna(0), train_labels)\n",
    "\n",
    "train_pred = clf.predict_proba(train_features[filtered_features].fillna(0))\n",
    "print('Accuracy on training set: {}'.format(roc_auc_score(train_labels, train_pred[:,1])))\n",
    "\n",
    "test_pred = clf.predict_proba(test_features[filtered_features].fillna(0))\n",
    "print('Accuracy on test set: {}'.format(roc_auc_score(test_labels, test_pred [:,1])))"
   ]
  },
  {
   "cell_type": "code",
   "execution_count": 10,
   "metadata": {},
   "outputs": [
    {
     "name": "stderr",
     "output_type": "stream",
     "text": [
      "[Parallel(n_jobs=1)]: Using backend SequentialBackend with 1 concurrent workers.\n",
      "[Parallel(n_jobs=1)]: Done   1 out of   1 | elapsed:    1.3s remaining:    0.0s\n",
      "[Parallel(n_jobs=1)]: Done  57 out of  57 | elapsed:  1.3min finished\n",
      "\n",
      "[2020-03-01 08:34:07] Features: 56/15 -- score: 0.6445952156743006[Parallel(n_jobs=1)]: Using backend SequentialBackend with 1 concurrent workers.\n",
      "[Parallel(n_jobs=1)]: Done   1 out of   1 | elapsed:    1.2s remaining:    0.0s\n",
      "[Parallel(n_jobs=1)]: Done  56 out of  56 | elapsed:  1.2min finished\n",
      "\n",
      "[2020-03-01 08:35:21] Features: 55/15 -- score: 0.646687679540724[Parallel(n_jobs=1)]: Using backend SequentialBackend with 1 concurrent workers.\n",
      "[Parallel(n_jobs=1)]: Done   1 out of   1 | elapsed:    1.2s remaining:    0.0s\n",
      "[Parallel(n_jobs=1)]: Done  55 out of  55 | elapsed:  1.2min finished\n",
      "\n",
      "[2020-03-01 08:36:34] Features: 54/15 -- score: 0.6507631472911599[Parallel(n_jobs=1)]: Using backend SequentialBackend with 1 concurrent workers.\n",
      "[Parallel(n_jobs=1)]: Done   1 out of   1 | elapsed:    1.2s remaining:    0.0s\n",
      "[Parallel(n_jobs=1)]: Done  54 out of  54 | elapsed:  1.2min finished\n",
      "\n",
      "[2020-03-01 08:37:47] Features: 53/15 -- score: 0.6488482869086375[Parallel(n_jobs=1)]: Using backend SequentialBackend with 1 concurrent workers.\n",
      "[Parallel(n_jobs=1)]: Done   1 out of   1 | elapsed:    1.2s remaining:    0.0s\n",
      "[Parallel(n_jobs=1)]: Done  53 out of  53 | elapsed:  1.2min finished\n",
      "\n",
      "[2020-03-01 08:38:59] Features: 52/15 -- score: 0.6472879847940768[Parallel(n_jobs=1)]: Using backend SequentialBackend with 1 concurrent workers.\n",
      "[Parallel(n_jobs=1)]: Done   1 out of   1 | elapsed:    1.3s remaining:    0.0s\n",
      "[Parallel(n_jobs=1)]: Done  52 out of  52 | elapsed:  1.2min finished\n",
      "\n",
      "[2020-03-01 08:40:12] Features: 51/15 -- score: 0.6445942551189069[Parallel(n_jobs=1)]: Using backend SequentialBackend with 1 concurrent workers.\n",
      "[Parallel(n_jobs=1)]: Done   1 out of   1 | elapsed:    1.2s remaining:    0.0s\n",
      "[Parallel(n_jobs=1)]: Done  51 out of  51 | elapsed:  1.2min finished\n",
      "\n",
      "[2020-03-01 08:41:25] Features: 50/15 -- score: 0.647528678782224[Parallel(n_jobs=1)]: Using backend SequentialBackend with 1 concurrent workers.\n",
      "[Parallel(n_jobs=1)]: Done   1 out of   1 | elapsed:    1.2s remaining:    0.0s\n",
      "[Parallel(n_jobs=1)]: Done  50 out of  50 | elapsed:  1.1min finished\n",
      "\n",
      "[2020-03-01 08:42:33] Features: 49/15 -- score: 0.6485274858090456[Parallel(n_jobs=1)]: Using backend SequentialBackend with 1 concurrent workers.\n",
      "[Parallel(n_jobs=1)]: Done   1 out of   1 | elapsed:    1.2s remaining:    0.0s\n",
      "[Parallel(n_jobs=1)]: Done  49 out of  49 | elapsed:  1.2min finished\n",
      "\n",
      "[2020-03-01 08:43:42] Features: 48/15 -- score: 0.644291675373787[Parallel(n_jobs=1)]: Using backend SequentialBackend with 1 concurrent workers.\n",
      "[Parallel(n_jobs=1)]: Done   1 out of   1 | elapsed:    2.3s remaining:    0.0s\n",
      "[Parallel(n_jobs=1)]: Done  48 out of  48 | elapsed:  1.7min finished\n",
      "\n",
      "[2020-03-01 08:45:23] Features: 47/15 -- score: 0.6465703105392859[Parallel(n_jobs=1)]: Using backend SequentialBackend with 1 concurrent workers.\n",
      "[Parallel(n_jobs=1)]: Done   1 out of   1 | elapsed:    3.5s remaining:    0.0s\n",
      "[Parallel(n_jobs=1)]: Done  47 out of  47 | elapsed:  1.4min finished\n",
      "\n",
      "[2020-03-01 08:46:48] Features: 46/15 -- score: 0.6442485040172403[Parallel(n_jobs=1)]: Using backend SequentialBackend with 1 concurrent workers.\n",
      "[Parallel(n_jobs=1)]: Done   1 out of   1 | elapsed:    1.1s remaining:    0.0s\n",
      "[Parallel(n_jobs=1)]: Done  46 out of  46 | elapsed:   56.7s finished\n",
      "\n",
      "[2020-03-01 08:47:45] Features: 45/15 -- score: 0.6456600466848763[Parallel(n_jobs=1)]: Using backend SequentialBackend with 1 concurrent workers.\n",
      "[Parallel(n_jobs=1)]: Done   1 out of   1 | elapsed:    1.1s remaining:    0.0s\n",
      "[Parallel(n_jobs=1)]: Done  45 out of  45 | elapsed:   58.2s finished\n",
      "\n",
      "[2020-03-01 08:48:43] Features: 44/15 -- score: 0.6491785609579195[Parallel(n_jobs=1)]: Using backend SequentialBackend with 1 concurrent workers.\n",
      "[Parallel(n_jobs=1)]: Done   1 out of   1 | elapsed:    1.2s remaining:    0.0s\n",
      "[Parallel(n_jobs=1)]: Done  44 out of  44 | elapsed:   55.7s finished\n",
      "\n",
      "[2020-03-01 08:49:39] Features: 43/15 -- score: 0.6479182110867922[Parallel(n_jobs=1)]: Using backend SequentialBackend with 1 concurrent workers.\n",
      "[Parallel(n_jobs=1)]: Done   1 out of   1 | elapsed:    2.2s remaining:    0.0s\n",
      "[Parallel(n_jobs=1)]: Done  43 out of  43 | elapsed:   54.6s finished\n",
      "\n",
      "[2020-03-01 08:50:34] Features: 42/15 -- score: 0.6534636173628874[Parallel(n_jobs=1)]: Using backend SequentialBackend with 1 concurrent workers.\n",
      "[Parallel(n_jobs=1)]: Done   1 out of   1 | elapsed:    1.2s remaining:    0.0s\n",
      "[Parallel(n_jobs=1)]: Done  42 out of  42 | elapsed:   53.8s finished\n",
      "\n",
      "[2020-03-01 08:51:27] Features: 41/15 -- score: 0.649582671854187[Parallel(n_jobs=1)]: Using backend SequentialBackend with 1 concurrent workers.\n",
      "[Parallel(n_jobs=1)]: Done   1 out of   1 | elapsed:    1.1s remaining:    0.0s\n",
      "[Parallel(n_jobs=1)]: Done  41 out of  41 | elapsed:   50.2s finished\n",
      "\n",
      "[2020-03-01 08:52:18] Features: 40/15 -- score: 0.6483347892151672[Parallel(n_jobs=1)]: Using backend SequentialBackend with 1 concurrent workers.\n",
      "[Parallel(n_jobs=1)]: Done   1 out of   1 | elapsed:    1.1s remaining:    0.0s\n",
      "[Parallel(n_jobs=1)]: Done  40 out of  40 | elapsed:   48.7s finished\n",
      "\n",
      "[2020-03-01 08:53:07] Features: 39/15 -- score: 0.6502026027090082[Parallel(n_jobs=1)]: Using backend SequentialBackend with 1 concurrent workers.\n",
      "[Parallel(n_jobs=1)]: Done   1 out of   1 | elapsed:    1.1s remaining:    0.0s\n",
      "[Parallel(n_jobs=1)]: Done  39 out of  39 | elapsed:   46.9s finished\n",
      "\n",
      "[2020-03-01 08:53:54] Features: 38/15 -- score: 0.6521953026472955[Parallel(n_jobs=1)]: Using backend SequentialBackend with 1 concurrent workers.\n",
      "[Parallel(n_jobs=1)]: Done   1 out of   1 | elapsed:    1.1s remaining:    0.0s\n",
      "[Parallel(n_jobs=1)]: Done  38 out of  38 | elapsed:   45.6s finished\n",
      "\n",
      "[2020-03-01 08:54:39] Features: 37/15 -- score: 0.650324979988563[Parallel(n_jobs=1)]: Using backend SequentialBackend with 1 concurrent workers.\n",
      "[Parallel(n_jobs=1)]: Done   1 out of   1 | elapsed:    1.1s remaining:    0.0s\n",
      "[Parallel(n_jobs=1)]: Done  37 out of  37 | elapsed:   44.2s finished\n",
      "\n",
      "[2020-03-01 08:55:23] Features: 36/15 -- score: 0.6477754701160358[Parallel(n_jobs=1)]: Using backend SequentialBackend with 1 concurrent workers.\n",
      "[Parallel(n_jobs=1)]: Done   1 out of   1 | elapsed:    1.0s remaining:    0.0s\n",
      "[Parallel(n_jobs=1)]: Done  36 out of  36 | elapsed:   40.4s finished\n",
      "\n",
      "[2020-03-01 08:56:04] Features: 35/15 -- score: 0.6503079259191907[Parallel(n_jobs=1)]: Using backend SequentialBackend with 1 concurrent workers.\n",
      "[Parallel(n_jobs=1)]: Done   1 out of   1 | elapsed:    1.0s remaining:    0.0s\n",
      "[Parallel(n_jobs=1)]: Done  35 out of  35 | elapsed:   39.3s finished\n",
      "\n",
      "[2020-03-01 08:56:43] Features: 34/15 -- score: 0.6494906507893959[Parallel(n_jobs=1)]: Using backend SequentialBackend with 1 concurrent workers.\n",
      "[Parallel(n_jobs=1)]: Done   1 out of   1 | elapsed:    1.0s remaining:    0.0s\n",
      "[Parallel(n_jobs=1)]: Done  34 out of  34 | elapsed:   37.5s finished\n",
      "\n",
      "[2020-03-01 08:57:21] Features: 33/15 -- score: 0.6509774114353435[Parallel(n_jobs=1)]: Using backend SequentialBackend with 1 concurrent workers.\n",
      "[Parallel(n_jobs=1)]: Done   1 out of   1 | elapsed:    1.0s remaining:    0.0s\n",
      "[Parallel(n_jobs=1)]: Done  33 out of  33 | elapsed:   36.0s finished\n",
      "\n",
      "[2020-03-01 08:57:57] Features: 32/15 -- score: 0.6519301571399305[Parallel(n_jobs=1)]: Using backend SequentialBackend with 1 concurrent workers.\n",
      "[Parallel(n_jobs=1)]: Done   1 out of   1 | elapsed:    1.0s remaining:    0.0s\n",
      "[Parallel(n_jobs=1)]: Done  32 out of  32 | elapsed:   34.8s finished\n",
      "\n",
      "[2020-03-01 08:58:32] Features: 31/15 -- score: 0.6492655013592038[Parallel(n_jobs=1)]: Using backend SequentialBackend with 1 concurrent workers.\n",
      "[Parallel(n_jobs=1)]: Done   1 out of   1 | elapsed:    1.0s remaining:    0.0s\n",
      "[Parallel(n_jobs=1)]: Done  31 out of  31 | elapsed:   33.7s finished\n",
      "\n",
      "[2020-03-01 08:59:06] Features: 30/15 -- score: 0.6506006771713331[Parallel(n_jobs=1)]: Using backend SequentialBackend with 1 concurrent workers.\n",
      "[Parallel(n_jobs=1)]: Done   1 out of   1 | elapsed:    1.0s remaining:    0.0s\n"
     ]
    },
    {
     "name": "stderr",
     "output_type": "stream",
     "text": [
      "[Parallel(n_jobs=1)]: Done  30 out of  30 | elapsed:   32.5s finished\n",
      "\n",
      "[2020-03-01 08:59:38] Features: 29/15 -- score: 0.6476933239541274[Parallel(n_jobs=1)]: Using backend SequentialBackend with 1 concurrent workers.\n",
      "[Parallel(n_jobs=1)]: Done   1 out of   1 | elapsed:    1.0s remaining:    0.0s\n",
      "[Parallel(n_jobs=1)]: Done  29 out of  29 | elapsed:   31.2s finished\n",
      "\n",
      "[2020-03-01 09:00:10] Features: 28/15 -- score: 0.6516726694761856[Parallel(n_jobs=1)]: Using backend SequentialBackend with 1 concurrent workers.\n",
      "[Parallel(n_jobs=1)]: Done   1 out of   1 | elapsed:    1.0s remaining:    0.0s\n",
      "[Parallel(n_jobs=1)]: Done  28 out of  28 | elapsed:   29.9s finished\n",
      "\n",
      "[2020-03-01 09:00:40] Features: 27/15 -- score: 0.6522347498939975[Parallel(n_jobs=1)]: Using backend SequentialBackend with 1 concurrent workers.\n",
      "[Parallel(n_jobs=1)]: Done   1 out of   1 | elapsed:    1.0s remaining:    0.0s\n",
      "[Parallel(n_jobs=1)]: Done  27 out of  27 | elapsed:   28.7s finished\n",
      "\n",
      "[2020-03-01 09:01:09] Features: 26/15 -- score: 0.650394441888676[Parallel(n_jobs=1)]: Using backend SequentialBackend with 1 concurrent workers.\n",
      "[Parallel(n_jobs=1)]: Done   1 out of   1 | elapsed:    1.0s remaining:    0.0s\n",
      "[Parallel(n_jobs=1)]: Done  26 out of  26 | elapsed:   27.9s finished\n",
      "\n",
      "[2020-03-01 09:01:37] Features: 25/15 -- score: 0.6494369862278611[Parallel(n_jobs=1)]: Using backend SequentialBackend with 1 concurrent workers.\n",
      "[Parallel(n_jobs=1)]: Done   1 out of   1 | elapsed:    0.9s remaining:    0.0s\n",
      "[Parallel(n_jobs=1)]: Done  25 out of  25 | elapsed:   25.5s finished\n",
      "\n",
      "[2020-03-01 09:02:02] Features: 24/15 -- score: 0.6536376829503877[Parallel(n_jobs=1)]: Using backend SequentialBackend with 1 concurrent workers.\n",
      "[Parallel(n_jobs=1)]: Done   1 out of   1 | elapsed:    0.9s remaining:    0.0s\n",
      "[Parallel(n_jobs=1)]: Done  24 out of  24 | elapsed:   24.1s finished\n",
      "\n",
      "[2020-03-01 09:02:26] Features: 23/15 -- score: 0.6493234989729577[Parallel(n_jobs=1)]: Using backend SequentialBackend with 1 concurrent workers.\n",
      "[Parallel(n_jobs=1)]: Done   1 out of   1 | elapsed:    0.9s remaining:    0.0s\n",
      "[Parallel(n_jobs=1)]: Done  23 out of  23 | elapsed:   23.1s finished\n",
      "\n",
      "[2020-03-01 09:02:50] Features: 22/15 -- score: 0.6597216947391422[Parallel(n_jobs=1)]: Using backend SequentialBackend with 1 concurrent workers.\n",
      "[Parallel(n_jobs=1)]: Done   1 out of   1 | elapsed:    0.9s remaining:    0.0s\n",
      "[Parallel(n_jobs=1)]: Done  22 out of  22 | elapsed:   22.1s finished\n",
      "\n",
      "[2020-03-01 09:03:12] Features: 21/15 -- score: 0.6520655094551195[Parallel(n_jobs=1)]: Using backend SequentialBackend with 1 concurrent workers.\n",
      "[Parallel(n_jobs=1)]: Done   1 out of   1 | elapsed:    0.9s remaining:    0.0s\n",
      "[Parallel(n_jobs=1)]: Done  21 out of  21 | elapsed:   20.9s finished\n",
      "\n",
      "[2020-03-01 09:03:33] Features: 20/15 -- score: 0.6495744281336417[Parallel(n_jobs=1)]: Using backend SequentialBackend with 1 concurrent workers.\n",
      "[Parallel(n_jobs=1)]: Done   1 out of   1 | elapsed:    0.9s remaining:    0.0s\n",
      "[Parallel(n_jobs=1)]: Done  20 out of  20 | elapsed:   19.9s finished\n",
      "\n",
      "[2020-03-01 09:03:53] Features: 19/15 -- score: 0.6537319244811082[Parallel(n_jobs=1)]: Using backend SequentialBackend with 1 concurrent workers.\n",
      "[Parallel(n_jobs=1)]: Done   1 out of   1 | elapsed:    0.9s remaining:    0.0s\n",
      "[Parallel(n_jobs=1)]: Done  19 out of  19 | elapsed:   18.8s finished\n",
      "\n",
      "[2020-03-01 09:04:12] Features: 18/15 -- score: 0.6518880432943912[Parallel(n_jobs=1)]: Using backend SequentialBackend with 1 concurrent workers.\n",
      "[Parallel(n_jobs=1)]: Done   1 out of   1 | elapsed:    0.9s remaining:    0.0s\n",
      "[Parallel(n_jobs=1)]: Done  18 out of  18 | elapsed:   17.8s finished\n",
      "\n",
      "[2020-03-01 09:04:30] Features: 17/15 -- score: 0.6509180474329557[Parallel(n_jobs=1)]: Using backend SequentialBackend with 1 concurrent workers.\n",
      "[Parallel(n_jobs=1)]: Done   1 out of   1 | elapsed:    0.9s remaining:    0.0s\n",
      "[Parallel(n_jobs=1)]: Done  17 out of  17 | elapsed:   16.4s finished\n",
      "\n",
      "[2020-03-01 09:04:46] Features: 16/15 -- score: 0.6558830122745916[Parallel(n_jobs=1)]: Using backend SequentialBackend with 1 concurrent workers.\n",
      "[Parallel(n_jobs=1)]: Done   1 out of   1 | elapsed:    0.8s remaining:    0.0s\n",
      "[Parallel(n_jobs=1)]: Done  16 out of  16 | elapsed:   14.8s finished\n",
      "\n",
      "[2020-03-01 09:05:01] Features: 15/15 -- score: 0.6538931995844709"
     ]
    }
   ],
   "source": [
    "# Step Backwards Feature Selection\n",
    "feature_selector = SequentialFeatureSelector(RandomForestClassifier(n_jobs=-1, n_estimators=10),\n",
    "           k_features=15, forward=False, verbose=2, scoring='roc_auc', cv=4)\n",
    "\n",
    "features = feature_selector.fit(np.array(train_features.fillna(0)), train_labels)"
   ]
  },
  {
   "cell_type": "code",
   "execution_count": 11,
   "metadata": {},
   "outputs": [
    {
     "data": {
      "text/plain": [
       "Index(['v1', 'v2', 'v10', 'v14', 'v15', 'v16', 'v50', 'v57', 'v59', 'v62',\n",
       "       'v72', 'v82', 'v94', 'v99', 'v131'],\n",
       "      dtype='object')"
      ]
     },
     "execution_count": 11,
     "metadata": {},
     "output_type": "execute_result"
    }
   ],
   "source": [
    "filtered_features= train_features.columns[list(features.k_feature_idx_)]\n",
    "filtered_features"
   ]
  },
  {
   "cell_type": "code",
   "execution_count": 12,
   "metadata": {},
   "outputs": [
    {
     "name": "stdout",
     "output_type": "stream",
     "text": [
      "Accuracy on training set: 0.7158238862345294\n",
      "Accuracy on test set: 0.6937328908836262\n"
     ]
    }
   ],
   "source": [
    "clf = RandomForestClassifier(n_estimators=100, random_state=41, max_depth=3)\n",
    "clf.fit(train_features[filtered_features].fillna(0), train_labels)\n",
    "\n",
    "train_pred = clf.predict_proba(train_features[filtered_features].fillna(0))\n",
    "print('Accuracy on training set: {}'.format(roc_auc_score(train_labels, train_pred[:,1])))\n",
    "\n",
    "test_pred = clf.predict_proba(test_features[filtered_features].fillna(0))\n",
    "print('Accuracy on test set: {}'.format(roc_auc_score(test_labels, test_pred [:,1])))"
   ]
  },
  {
   "cell_type": "code",
   "execution_count": 13,
   "metadata": {},
   "outputs": [],
   "source": [
    "# Exhaustive Feature Selection \n",
    "from mlxtend.feature_selection import ExhaustiveFeatureSelector\n",
    "\n",
    "# min_featuresand max_features attributes which can be used to specify the minimum \n",
    "# and the maximum number of features in the combination.\n",
    "feature_selector = ExhaustiveFeatureSelector(RandomForestClassifier(n_jobs=-1, n_estimators=10),\n",
    "           min_features=2, max_features=4, scoring='roc_auc', print_progress=True, cv=2)"
   ]
  },
  {
   "cell_type": "code",
   "execution_count": null,
   "metadata": {},
   "outputs": [],
   "source": [
    "features = feature_selector.fit(np.array(train_features.fillna(0)), train_labels)"
   ]
  },
  {
   "cell_type": "code",
   "execution_count": null,
   "metadata": {},
   "outputs": [],
   "source": [
    "filtered_features= train_features.columns[list(features.k_feature_idx_)]\n",
    "filtered_features"
   ]
  },
  {
   "cell_type": "code",
   "execution_count": null,
   "metadata": {},
   "outputs": [],
   "source": [
    "clf = RandomForestClassifier(n_estimators=100, random_state=41, max_depth=3)\n",
    "clf.fit(train_features[filtered_features].fillna(0), train_labels)\n",
    "\n",
    "train_pred = clf.predict_proba(train_features[filtered_features].fillna(0))\n",
    "print('Accuracy on training set: {}'.format(roc_auc_score(train_labels, train_pred[:,1])))\n",
    "\n",
    "test_pred = clf.predict_proba(test_features[filtered_features].fillna(0))\n",
    "print('Accuracy on test set: {}'.format(roc_auc_score(test_labels, test_pred [:,1])))"
   ]
  },
  {
   "cell_type": "code",
   "execution_count": null,
   "metadata": {},
   "outputs": [],
   "source": []
  },
  {
   "cell_type": "code",
   "execution_count": null,
   "metadata": {},
   "outputs": [],
   "source": []
  },
  {
   "cell_type": "code",
   "execution_count": null,
   "metadata": {},
   "outputs": [],
   "source": []
  }
 ],
 "metadata": {
  "kernelspec": {
   "display_name": "Python 3",
   "language": "python",
   "name": "python3"
  },
  "language_info": {
   "codemirror_mode": {
    "name": "ipython",
    "version": 3
   },
   "file_extension": ".py",
   "mimetype": "text/x-python",
   "name": "python",
   "nbconvert_exporter": "python",
   "pygments_lexer": "ipython3",
   "version": "3.7.4"
  }
 },
 "nbformat": 4,
 "nbformat_minor": 2
}
